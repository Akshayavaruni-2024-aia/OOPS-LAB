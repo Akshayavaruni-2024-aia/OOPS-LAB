{
  "nbformat": 4,
  "nbformat_minor": 0,
  "metadata": {
    "colab": {
      "provenance": []
    },
    "kernelspec": {
      "name": "python3",
      "display_name": "Python 3"
    },
    "language_info": {
      "name": "python"
    }
  },
  "cells": [
    {
      "cell_type": "code",
      "source": [
        "%%writefile Student.java\n",
        "public class Student {\n",
        "    String name;\n",
        "    int age;\n",
        "    String course;\n",
        "\n",
        "    void setDetails(String studentName, int studentAge, String studentCourse) {\n",
        "        name = studentName;\n",
        "        age = studentAge;\n",
        "        course = studentCourse;\n",
        "    }\n",
        "\n",
        "    void displayDetails() {\n",
        "        System.out.println(\"Student Name: \" + name);\n",
        "        System.out.println(\"Age: \" + age);\n",
        "        System.out.println(\"Course: \" + course);\n",
        "    }\n",
        "\n",
        "    public static void main(String[] args) {\n",
        "        Student student1 = new Student();\n",
        "        student1.setDetails(\"Akshaya\", 20, \"Computer Science\");\n",
        "        student1.displayDetails();\n",
        "    }\n",
        "}\n"
      ],
      "metadata": {
        "colab": {
          "base_uri": "https://localhost:8080/"
        },
        "id": "4R9ZtLPPsKjT",
        "outputId": "2e3ee136-def5-41c2-b3e2-1c151f912c48"
      },
      "execution_count": 5,
      "outputs": [
        {
          "output_type": "stream",
          "name": "stdout",
          "text": [
            "Writing Student.java\n"
          ]
        }
      ]
    },
    {
      "cell_type": "code",
      "source": [
        "!javac Student.java\n",
        "!java Student\n"
      ],
      "metadata": {
        "colab": {
          "base_uri": "https://localhost:8080/"
        },
        "id": "p5FncmTdsSzS",
        "outputId": "a0264c20-1fa7-48e9-eaf1-4021ba7f4bfc"
      },
      "execution_count": 6,
      "outputs": [
        {
          "output_type": "stream",
          "name": "stdout",
          "text": [
            "Student Name: Akshaya\n",
            "Age: 20\n",
            "Course: Computer Science\n"
          ]
        }
      ]
    }
  ]
}